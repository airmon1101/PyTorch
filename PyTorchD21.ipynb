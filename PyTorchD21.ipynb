{
  "nbformat": 4,
  "nbformat_minor": 0,
  "metadata": {
    "colab": {
      "provenance": []
    },
    "kernelspec": {
      "name": "python3",
      "display_name": "Python 3"
    },
    "language_info": {
      "name": "python"
    }
  },
  "cells": [
    {
      "cell_type": "code",
      "execution_count": 3,
      "metadata": {
        "colab": {
          "base_uri": "https://localhost:8080/"
        },
        "id": "K_U2VxAqe0oB",
        "outputId": "a04ed13d-e04b-4853-e8d8-2a56c5f5908f"
      },
      "outputs": [
        {
          "output_type": "stream",
          "name": "stdout",
          "text": [
            "2.6.0+cu124\n"
          ]
        }
      ],
      "source": [
        "import torch\n",
        "print(torch.__version__)"
      ]
    },
    {
      "cell_type": "code",
      "source": [
        "# Creating tensor\n",
        "# The first thing we're going to create a scalar\n",
        "# A scalar is a single number and in tensor-speak it's a zero dimension tensor\n",
        "\n",
        "# Scalar\n",
        "\n",
        "scalar = torch.tensor(4)\n",
        "print(scalar)"
      ],
      "metadata": {
        "colab": {
          "base_uri": "https://localhost:8080/"
        },
        "id": "zSQXX0l_fHyV",
        "outputId": "912666ee-db3d-46f6-d64d-f2bd56c7cfb4"
      },
      "execution_count": 4,
      "outputs": [
        {
          "output_type": "stream",
          "name": "stdout",
          "text": [
            "tensor(4)\n"
          ]
        }
      ]
    },
    {
      "cell_type": "code",
      "source": [
        "# We can check the dimension of a tensor using the '.ndim' attribute\n",
        "\n",
        "scalar.ndim"
      ],
      "metadata": {
        "colab": {
          "base_uri": "https://localhost:8080/"
        },
        "id": "RIEagS7WfIae",
        "outputId": "148a92c8-c54f-4ce2-e191-4d66c94618de"
      },
      "execution_count": 5,
      "outputs": [
        {
          "output_type": "execute_result",
          "data": {
            "text/plain": [
              "0"
            ]
          },
          "metadata": {},
          "execution_count": 5
        }
      ]
    },
    {
      "cell_type": "code",
      "source": [
        "# Get the  Python number within a tensor (only works with one-element tensor)\n",
        "scalar.item()"
      ],
      "metadata": {
        "colab": {
          "base_uri": "https://localhost:8080/"
        },
        "id": "zhom0bHEfIiq",
        "outputId": "9eb9eb64-fd0c-48f0-ddc2-430e05d1b851"
      },
      "execution_count": 9,
      "outputs": [
        {
          "output_type": "execute_result",
          "data": {
            "text/plain": [
              "4"
            ]
          },
          "metadata": {},
          "execution_count": 9
        }
      ]
    },
    {
      "cell_type": "code",
      "source": [
        "# A vector is a single dimension tensor but can contain many nunbers.\n",
        "\n",
        "# Vector\n",
        "vector = torch.tensor([4, 5])\n",
        "vector"
      ],
      "metadata": {
        "colab": {
          "base_uri": "https://localhost:8080/"
        },
        "id": "YpdJiMVXfIpj",
        "outputId": "21158748-680f-45df-ea80-214221b2b298"
      },
      "execution_count": 10,
      "outputs": [
        {
          "output_type": "execute_result",
          "data": {
            "text/plain": [
              "tensor([4, 5])"
            ]
          },
          "metadata": {},
          "execution_count": 10
        }
      ]
    },
    {
      "cell_type": "code",
      "source": [
        "# Check the number of dimensions of vector\n",
        "vector.ndim"
      ],
      "metadata": {
        "colab": {
          "base_uri": "https://localhost:8080/"
        },
        "id": "Mgn92zdMfIwM",
        "outputId": "887edc2f-278d-4ee6-f03b-e3d185601516"
      },
      "execution_count": 12,
      "outputs": [
        {
          "output_type": "execute_result",
          "data": {
            "text/plain": [
              "1"
            ]
          },
          "metadata": {},
          "execution_count": 12
        }
      ]
    },
    {
      "cell_type": "code",
      "source": [
        "# Ckeck shape of vector\n",
        "vector.shape"
      ],
      "metadata": {
        "colab": {
          "base_uri": "https://localhost:8080/"
        },
        "id": "LI68a50AfI2x",
        "outputId": "8815c083-0bc0-4e21-a038-01a0fd8337b2"
      },
      "execution_count": 13,
      "outputs": [
        {
          "output_type": "execute_result",
          "data": {
            "text/plain": [
              "torch.Size([2])"
            ]
          },
          "metadata": {},
          "execution_count": 13
        }
      ]
    },
    {
      "cell_type": "code",
      "source": [
        "# The above returns torch.Size([2]) which means our vector has a shape of [2].\n",
        "# This is because of the two elements we placed inside the square brackets ([4, 5])."
      ],
      "metadata": {
        "id": "Eca3var1fI9I"
      },
      "execution_count": 15,
      "outputs": []
    },
    {
      "cell_type": "code",
      "source": [
        "# Matrix\n",
        "\n",
        "matrix = torch.tensor([[4, 5],\n",
        "                       [6, 7]])\n",
        "matrix"
      ],
      "metadata": {
        "colab": {
          "base_uri": "https://localhost:8080/"
        },
        "id": "m_a84VnrfJDY",
        "outputId": "05fc7e4a-807b-4f22-a7de-d18977ae5b3c"
      },
      "execution_count": 18,
      "outputs": [
        {
          "output_type": "execute_result",
          "data": {
            "text/plain": [
              "tensor([[4, 5],\n",
              "        [6, 7]])"
            ]
          },
          "metadata": {},
          "execution_count": 18
        }
      ]
    },
    {
      "cell_type": "code",
      "source": [
        "# Check number of dimensions\n",
        "matrix.ndim"
      ],
      "metadata": {
        "colab": {
          "base_uri": "https://localhost:8080/"
        },
        "id": "IcgYcdhYfJJC",
        "outputId": "fc7da0c0-a5da-4f1f-c709-5e9fdbd9cb98"
      },
      "execution_count": 19,
      "outputs": [
        {
          "output_type": "execute_result",
          "data": {
            "text/plain": [
              "2"
            ]
          },
          "metadata": {},
          "execution_count": 19
        }
      ]
    },
    {
      "cell_type": "code",
      "source": [
        "matrix.shape"
      ],
      "metadata": {
        "colab": {
          "base_uri": "https://localhost:8080/"
        },
        "id": "HccF1Tc7fJP_",
        "outputId": "ed156a62-967e-4671-e2fa-768c1cfe8e82"
      },
      "execution_count": 21,
      "outputs": [
        {
          "output_type": "execute_result",
          "data": {
            "text/plain": [
              "torch.Size([2, 2])"
            ]
          },
          "metadata": {},
          "execution_count": 21
        }
      ]
    },
    {
      "cell_type": "code",
      "source": [
        "# Create a Tensor\n",
        "\n",
        "tensor = torch.tensor([[[1, 2, 3],\n",
        "                        [4, 5, 6],\n",
        "                        [7, 8, 9]]])\n",
        "tensor"
      ],
      "metadata": {
        "colab": {
          "base_uri": "https://localhost:8080/"
        },
        "id": "-PmsctOmfJWR",
        "outputId": "e62d86e8-1bdd-4293-ee4f-03694410ba25"
      },
      "execution_count": 23,
      "outputs": [
        {
          "output_type": "execute_result",
          "data": {
            "text/plain": [
              "tensor([[[1, 2, 3],\n",
              "         [4, 5, 6],\n",
              "         [7, 8, 9]]])"
            ]
          },
          "metadata": {},
          "execution_count": 23
        }
      ]
    },
    {
      "cell_type": "code",
      "source": [
        "# Check number of dimension for TENSOR\n",
        "tensor.ndim"
      ],
      "metadata": {
        "colab": {
          "base_uri": "https://localhost:8080/"
        },
        "id": "2OrlGpiwfJcy",
        "outputId": "1e39d068-a613-48c5-f8e8-3d23f1c7fefa"
      },
      "execution_count": 24,
      "outputs": [
        {
          "output_type": "execute_result",
          "data": {
            "text/plain": [
              "3"
            ]
          },
          "metadata": {},
          "execution_count": 24
        }
      ]
    },
    {
      "cell_type": "code",
      "source": [
        "# Check shape of TENSOR\n",
        "tensor.shape"
      ],
      "metadata": {
        "colab": {
          "base_uri": "https://localhost:8080/"
        },
        "id": "9hN97eizfJiB",
        "outputId": "ff122d47-b020-4c9d-8594-90c525afece6"
      },
      "execution_count": 25,
      "outputs": [
        {
          "output_type": "execute_result",
          "data": {
            "text/plain": [
              "torch.Size([1, 3, 3])"
            ]
          },
          "metadata": {},
          "execution_count": 25
        }
      ]
    },
    {
      "cell_type": "code",
      "source": [
        "# Create a random tensor of size (3, 4)\n",
        "random_tensor = torch.rand(size=(3, 4))\n",
        "print(random_tensor)\n",
        "print(random_tensor.dtype)"
      ],
      "metadata": {
        "colab": {
          "base_uri": "https://localhost:8080/"
        },
        "id": "gVcLmRu2fJnh",
        "outputId": "a6b4fc8a-37fa-473a-f857-db16059744e7"
      },
      "execution_count": 29,
      "outputs": [
        {
          "output_type": "stream",
          "name": "stdout",
          "text": [
            "tensor([[0.3367, 0.1943, 0.7391, 0.6355],\n",
            "        [0.5307, 0.8971, 0.2867, 0.1182],\n",
            "        [0.2463, 0.0042, 0.4769, 0.1306]])\n",
            "torch.float32\n"
          ]
        }
      ]
    },
    {
      "cell_type": "code",
      "source": [
        "# The flexibility of 'torch.rand()' is that we can adjust the size to be whatever we want.\n",
        "# For example, say you wanted a random tensor in the common image shape of [244, 244, 3] ([height, width, color_channels]).\n",
        "\n",
        "# Create a random tensor of size (244, 244, 3)\n",
        "\n",
        "random_image_size_tensor = torch.rand(size=(244, 244, 3))\n",
        "random_image_size_tensor.shape, random_image_size_tensor.ndim"
      ],
      "metadata": {
        "colab": {
          "base_uri": "https://localhost:8080/"
        },
        "id": "XGNPjSwifJtK",
        "outputId": "f806d685-1d71-43fb-d858-cb3a5f4f5489"
      },
      "execution_count": 30,
      "outputs": [
        {
          "output_type": "execute_result",
          "data": {
            "text/plain": [
              "(torch.Size([244, 244, 3]), 3)"
            ]
          },
          "metadata": {},
          "execution_count": 30
        }
      ]
    },
    {
      "cell_type": "code",
      "source": [
        "random_image_size_tensor"
      ],
      "metadata": {
        "colab": {
          "base_uri": "https://localhost:8080/"
        },
        "id": "h2TxiCPhfJzC",
        "outputId": "9c10b681-353e-476b-ce9d-ae8a12c0dd6c"
      },
      "execution_count": 34,
      "outputs": [
        {
          "output_type": "execute_result",
          "data": {
            "text/plain": [
              "tensor([[[0.2668, 0.7737, 0.7976],\n",
              "         [0.1873, 0.5850, 0.3034],\n",
              "         [0.8531, 0.6511, 0.5750],\n",
              "         ...,\n",
              "         [0.9988, 0.2379, 0.7996],\n",
              "         [0.0838, 0.6527, 0.4217],\n",
              "         [0.1693, 0.1253, 0.3408]],\n",
              "\n",
              "        [[0.5212, 0.7270, 0.1282],\n",
              "         [0.3035, 0.3243, 0.6058],\n",
              "         [0.5777, 0.8957, 0.1483],\n",
              "         ...,\n",
              "         [0.9122, 0.0875, 0.3040],\n",
              "         [0.4997, 0.5119, 0.9425],\n",
              "         [0.5470, 0.5288, 0.3401]],\n",
              "\n",
              "        [[0.6255, 0.9809, 0.9492],\n",
              "         [0.1923, 0.2986, 0.5894],\n",
              "         [0.2673, 0.2469, 0.8117],\n",
              "         ...,\n",
              "         [0.4532, 0.0315, 0.9211],\n",
              "         [0.9199, 0.7751, 0.4234],\n",
              "         [0.6252, 0.5909, 0.4306]],\n",
              "\n",
              "        ...,\n",
              "\n",
              "        [[0.3950, 0.2668, 0.8732],\n",
              "         [0.5123, 0.1844, 0.0619],\n",
              "         [0.4751, 0.8323, 0.9728],\n",
              "         ...,\n",
              "         [0.8192, 0.7288, 0.6087],\n",
              "         [0.3882, 0.7826, 0.4032],\n",
              "         [0.3431, 0.5877, 0.0904]],\n",
              "\n",
              "        [[0.7620, 0.1715, 0.2231],\n",
              "         [0.1069, 0.9291, 0.8106],\n",
              "         [0.9121, 0.3261, 0.7744],\n",
              "         ...,\n",
              "         [0.7102, 0.0706, 0.5131],\n",
              "         [0.0788, 0.2513, 0.1137],\n",
              "         [0.0269, 0.4891, 0.0598]],\n",
              "\n",
              "        [[0.4462, 0.3475, 0.8733],\n",
              "         [0.4182, 0.9344, 0.3946],\n",
              "         [0.4839, 0.6268, 0.6092],\n",
              "         ...,\n",
              "         [0.8957, 0.6676, 0.7821],\n",
              "         [0.3320, 0.6422, 0.6830],\n",
              "         [0.2243, 0.1390, 0.7209]]])"
            ]
          },
          "metadata": {},
          "execution_count": 34
        }
      ]
    },
    {
      "cell_type": "code",
      "source": [
        "# Zeros and ones"
      ],
      "metadata": {
        "id": "pxZ-0e01fJ4h"
      },
      "execution_count": 35,
      "outputs": []
    },
    {
      "cell_type": "code",
      "source": [
        "# Create a tensor of all zeros\n",
        "\n",
        "zeros = torch.zeros(size=(5, 5))\n",
        "print(zeros)\n",
        "print(zeros.dtype)"
      ],
      "metadata": {
        "colab": {
          "base_uri": "https://localhost:8080/"
        },
        "id": "9zJRBgPnfJ_z",
        "outputId": "b047c3fd-d367-4b7b-8f2d-8cbbb4a16749"
      },
      "execution_count": 49,
      "outputs": [
        {
          "output_type": "stream",
          "name": "stdout",
          "text": [
            "tensor([[0., 0., 0., 0., 0.],\n",
            "        [0., 0., 0., 0., 0.],\n",
            "        [0., 0., 0., 0., 0.],\n",
            "        [0., 0., 0., 0., 0.],\n",
            "        [0., 0., 0., 0., 0.]])\n",
            "torch.float32\n"
          ]
        }
      ]
    },
    {
      "cell_type": "code",
      "source": [
        "# Create a tensor of all ones\n",
        "\n",
        "ones = torch.ones(size=(5, 5))\n",
        "print(ones)\n",
        "print(ones.dtype)"
      ],
      "metadata": {
        "colab": {
          "base_uri": "https://localhost:8080/"
        },
        "id": "_76h6yXFfKF7",
        "outputId": "7dd1794a-24d5-4ab4-fc1d-27f569965459"
      },
      "execution_count": 51,
      "outputs": [
        {
          "output_type": "stream",
          "name": "stdout",
          "text": [
            "tensor([[1., 1., 1., 1., 1.],\n",
            "        [1., 1., 1., 1., 1.],\n",
            "        [1., 1., 1., 1., 1.],\n",
            "        [1., 1., 1., 1., 1.],\n",
            "        [1., 1., 1., 1., 1.]])\n",
            "torch.float32\n"
          ]
        }
      ]
    },
    {
      "cell_type": "code",
      "source": [
        "# Create a range of values 0 to 20 using 'torch.arange()'\n",
        "\n",
        "zero_to_twenty = torch.arange(0, 20, 1)\n",
        "zero_to_twenty"
      ],
      "metadata": {
        "colab": {
          "base_uri": "https://localhost:8080/"
        },
        "id": "I0FjLbRqfKMe",
        "outputId": "3b8e01f0-5d8a-47b2-e2f7-5a45311c1cdf"
      },
      "execution_count": 59,
      "outputs": [
        {
          "output_type": "execute_result",
          "data": {
            "text/plain": [
              "tensor([ 0,  1,  2,  3,  4,  5,  6,  7,  8,  9, 10, 11, 12, 13, 14, 15, 16, 17,\n",
              "        18, 19])"
            ]
          },
          "metadata": {},
          "execution_count": 59
        }
      ]
    },
    {
      "cell_type": "code",
      "source": [
        "twenty_zeros = torch.zeros_like(zero_to_twenty)\n",
        "twenty_zeros"
      ],
      "metadata": {
        "colab": {
          "base_uri": "https://localhost:8080/"
        },
        "id": "7kNxvvK3fKSK",
        "outputId": "da159cbc-6000-4ef4-ffc3-ec5138510ae2"
      },
      "execution_count": 60,
      "outputs": [
        {
          "output_type": "execute_result",
          "data": {
            "text/plain": [
              "tensor([0, 0, 0, 0, 0, 0, 0, 0, 0, 0, 0, 0, 0, 0, 0, 0, 0, 0, 0, 0])"
            ]
          },
          "metadata": {},
          "execution_count": 60
        }
      ]
    },
    {
      "cell_type": "code",
      "source": [
        "print(twenty_zeros.shape)\n",
        "print(twenty_zeros.size()) # '.shape' and '.size' are same ???"
      ],
      "metadata": {
        "colab": {
          "base_uri": "https://localhost:8080/"
        },
        "id": "IwHZwxbgfKXx",
        "outputId": "603c7e8a-f880-4a54-a2ae-7108e125fdbd"
      },
      "execution_count": 67,
      "outputs": [
        {
          "output_type": "stream",
          "name": "stdout",
          "text": [
            "torch.Size([20])\n",
            "torch.Size([20])\n"
          ]
        }
      ]
    },
    {
      "cell_type": "code",
      "source": [
        "# Tensor Datatypes\n",
        "# The most common type is (torch.float32 OR torch.float).\n",
        "# But there's also 16-bit floating point (torch.float16 OR torch.half)\n",
        "# And 64-bit floating point (torch.float64 OR torch.double)\n",
        "# And to confuse things even more there's also 8-bit, 16-bit, 32-bit and 64-bit integers."
      ],
      "metadata": {
        "id": "u-N810vsfKdp"
      },
      "execution_count": 72,
      "outputs": []
    },
    {
      "cell_type": "code",
      "source": [
        "# Defalt datatype for tensors is float32\n",
        "\n",
        "float_32_tensor = torch.tensor([3.0, 6.0, 9.0],\n",
        "                               dtype=None,# defaults to None, whice is 'torch.float32'\n",
        "                               device=None, # defaults to None, whice uses the defaults tensor type\n",
        "                               requires_grad=False) # if True, operations performed on the tensor are recorded\n",
        "print(float_32_tensor.shape)\n",
        "print(float_32_tensor.dtype)\n",
        "print(float_32_tensor.device)"
      ],
      "metadata": {
        "colab": {
          "base_uri": "https://localhost:8080/"
        },
        "id": "v5fZKNITIK_N",
        "outputId": "75b1f3d6-0d9e-4667-88d8-ea31e7e08114"
      },
      "execution_count": 74,
      "outputs": [
        {
          "output_type": "stream",
          "name": "stdout",
          "text": [
            "torch.Size([3])\n",
            "torch.float32\n",
            "cpu\n"
          ]
        }
      ]
    },
    {
      "cell_type": "code",
      "source": [
        "# Create a tensor with 'dtype=torch.float16'.\n",
        "float_16_tensor = torch.tensor([3.0, 6.0, 9.0],\n",
        "                               dtype=torch.float16)\n",
        "float_16_tensor.dtype"
      ],
      "metadata": {
        "colab": {
          "base_uri": "https://localhost:8080/"
        },
        "id": "nq2cURmEfKh6",
        "outputId": "6005e0f7-b5a5-4dd1-bfd4-8295b07f16da"
      },
      "execution_count": 82,
      "outputs": [
        {
          "output_type": "execute_result",
          "data": {
            "text/plain": [
              "torch.float16"
            ]
          },
          "metadata": {},
          "execution_count": 82
        }
      ]
    },
    {
      "cell_type": "code",
      "source": [
        "# shape - what shape is the tensor? (some operations require specific shape rules)\n",
        "# dtype - what datatype are the elements within the tensor stored in?\n",
        "# device - what device is the tensor stored on? (usually GPU or CPU)\n",
        "# Let's create a random tensor and find out details about it."
      ],
      "metadata": {
        "id": "EBsrAYJsKLvY"
      },
      "execution_count": 89,
      "outputs": []
    },
    {
      "cell_type": "code",
      "source": [
        "# Create a tensor\n",
        "some_tensor = torch.rand(6, 9)\n",
        "\n",
        "# Find out details about it\n",
        "print(some_tensor)\n",
        "print(f\"Shape of tensor: {some_tensor.shape}\")\n",
        "print(f\"Datatype of tensor: {some_tensor.dtype}\")\n",
        "print(f\"Device tensor is stored on: {some_tensor.device}\")"
      ],
      "metadata": {
        "colab": {
          "base_uri": "https://localhost:8080/"
        },
        "id": "gHtVv6cXM_rl",
        "outputId": "8615f35c-c139-4d9c-8529-47d68f57c7cf"
      },
      "execution_count": 96,
      "outputs": [
        {
          "output_type": "stream",
          "name": "stdout",
          "text": [
            "tensor([[0.2729, 0.2778, 0.4827, 0.9926, 0.8588, 0.5509, 0.3613, 0.1985, 0.3425],\n",
            "        [0.7425, 0.8663, 0.9048, 0.0511, 0.6067, 0.8102, 0.3561, 0.2663, 0.9193],\n",
            "        [0.0132, 0.3389, 0.5439, 0.1989, 0.2606, 0.5589, 0.8170, 0.9834, 0.9978],\n",
            "        [0.8411, 0.6814, 0.3165, 0.3861, 0.1156, 0.5136, 0.0864, 0.7615, 0.7307],\n",
            "        [0.6886, 0.2349, 0.5980, 0.0731, 0.3948, 0.3472, 0.9892, 0.9810, 0.4567],\n",
            "        [0.5957, 0.0058, 0.8578, 0.2680, 0.2445, 0.6345, 0.4524, 0.7889, 0.0920]])\n",
            "Shape of tensor: torch.Size([6, 9])\n",
            "Datatype of tensor: torch.float32\n",
            "Device tensor is stored on: cpu\n"
          ]
        }
      ]
    },
    {
      "cell_type": "code",
      "source": [
        "# Manipulating tensors (tensor operations)"
      ],
      "metadata": {
        "id": "JGeyH-zVOHKZ"
      },
      "execution_count": 97,
      "outputs": []
    },
    {
      "cell_type": "code",
      "source": [
        "# In deep learning, data (images, text, video, audio, protein structures, etc) gets represented as tensors.\n",
        "\n",
        "# A model learns by investigating those tensors and performing a series of operations (could be 1,000,000s+) on tensors to create a representation of the patterns in the input data.\n",
        "\n",
        "# These operations are often a wonderful dance between:\n",
        "\n",
        "# Addition\n",
        "# Substraction\n",
        "# Multiplication (element-wise)\n",
        "# Division\n",
        "# Matrix multiplication\n",
        "# And that's it. Sure there are a few more here and there but these are the basic building blocks of neural networks.\n",
        "\n",
        "# Stacking these building blocks in the right way, you can create the most sophisticated of neural networks (just like lego!)."
      ],
      "metadata": {
        "id": "WsSjKH-pPyAE"
      },
      "execution_count": 98,
      "outputs": []
    },
    {
      "cell_type": "code",
      "source": [
        "# Basic operations\n",
        "# Let's start with a few of the fundamental operations, addition (+), subtraction (-), mutliplication (*).\n",
        "# They work just as you think they would."
      ],
      "metadata": {
        "id": "4NSnRf7LShZB"
      },
      "execution_count": 99,
      "outputs": []
    },
    {
      "cell_type": "code",
      "source": [
        "# Create atensor of values and add a number to it\n",
        "tensor = torch.tensor([1, 2, 3])\n",
        "tensor + 10"
      ],
      "metadata": {
        "colab": {
          "base_uri": "https://localhost:8080/"
        },
        "id": "1rr_UJZlS8Nw",
        "outputId": "0fd2d6bf-bd1e-4b79-9eab-d68ad42e14cb"
      },
      "execution_count": 100,
      "outputs": [
        {
          "output_type": "execute_result",
          "data": {
            "text/plain": [
              "tensor([11, 12, 13])"
            ]
          },
          "metadata": {},
          "execution_count": 100
        }
      ]
    },
    {
      "cell_type": "code",
      "source": [
        "# Multiply it by 10\n",
        "tensor * 10 # OR you can use PyTorch function like 'torch.multiply(tensor, 10)'."
      ],
      "metadata": {
        "colab": {
          "base_uri": "https://localhost:8080/"
        },
        "id": "k5BJeVkZTWma",
        "outputId": "4121c1de-2ffb-47b7-877a-a834033bdc3d"
      },
      "execution_count": 101,
      "outputs": [
        {
          "output_type": "execute_result",
          "data": {
            "text/plain": [
              "tensor([10, 20, 30])"
            ]
          },
          "metadata": {},
          "execution_count": 101
        }
      ]
    },
    {
      "cell_type": "code",
      "source": [
        "# Notice how the tensor values above didn't end up being tensor([110, 120, 130]),\n",
        "# this is because the values inside the tensor don't change unless they're reassigned."
      ],
      "metadata": {
        "id": "QA2da6McTXyH"
      },
      "execution_count": 105,
      "outputs": []
    },
    {
      "cell_type": "code",
      "source": [
        "tensor"
      ],
      "metadata": {
        "colab": {
          "base_uri": "https://localhost:8080/"
        },
        "id": "8-gJu9BjTX6w",
        "outputId": "3da99e51-f887-45f5-ff3d-cb0593c37279"
      },
      "execution_count": 107,
      "outputs": [
        {
          "output_type": "execute_result",
          "data": {
            "text/plain": [
              "tensor([1, 2, 3])"
            ]
          },
          "metadata": {},
          "execution_count": 107
        }
      ]
    },
    {
      "cell_type": "code",
      "source": [
        "# Let's subtract a number and this time we'll reassign the tensor variable."
      ],
      "metadata": {
        "id": "q03zYZ0fTYCl"
      },
      "execution_count": 108,
      "outputs": []
    },
    {
      "cell_type": "code",
      "source": [
        "# Subtract and reassing\n",
        "# Like this\n",
        "tensor = tensor - 10 # OR you can use PyTorch function like 'torch.subtract(tensor, 10)'\n",
        "tensor"
      ],
      "metadata": {
        "colab": {
          "base_uri": "https://localhost:8080/"
        },
        "id": "KKi7BiLWTYJx",
        "outputId": "5e35bfea-9183-4813-dbb7-d479f7c04fef"
      },
      "execution_count": 109,
      "outputs": [
        {
          "output_type": "execute_result",
          "data": {
            "text/plain": [
              "tensor([-9, -8, -7])"
            ]
          },
          "metadata": {},
          "execution_count": 109
        }
      ]
    },
    {
      "cell_type": "code",
      "source": [
        "# Add and reassing\n",
        "tensor = tensor + 10\n",
        "tensor"
      ],
      "metadata": {
        "colab": {
          "base_uri": "https://localhost:8080/"
        },
        "id": "HuURR69CTYRI",
        "outputId": "bf8df136-d0ff-4ed2-b90e-530a25aa3d13"
      },
      "execution_count": 110,
      "outputs": [
        {
          "output_type": "execute_result",
          "data": {
            "text/plain": [
              "tensor([1, 2, 3])"
            ]
          },
          "metadata": {},
          "execution_count": 110
        }
      ]
    },
    {
      "cell_type": "code",
      "source": [
        "# PyTorch also has a bunch of built-in functions like torch.mul() (short for multiplication) and torch.add() to perform basic operations."
      ],
      "metadata": {
        "id": "klgCHZmOTYX-"
      },
      "execution_count": 111,
      "outputs": []
    },
    {
      "cell_type": "code",
      "source": [
        "# Can also use torch functions\n",
        "torch.multiply(tensor, 10)\n",
        "# OR\n",
        "torch.mul(tensor, 10)"
      ],
      "metadata": {
        "colab": {
          "base_uri": "https://localhost:8080/"
        },
        "id": "VtmZlf-8TYev",
        "outputId": "37f5cf08-e530-495c-faaf-935725b56068"
      },
      "execution_count": 117,
      "outputs": [
        {
          "output_type": "execute_result",
          "data": {
            "text/plain": [
              "tensor([10, 20, 30])"
            ]
          },
          "metadata": {},
          "execution_count": 117
        }
      ]
    },
    {
      "cell_type": "code",
      "source": [
        "# Original tensor is still unchanged\n",
        "tensor"
      ],
      "metadata": {
        "colab": {
          "base_uri": "https://localhost:8080/"
        },
        "id": "d3iRD8buTYmO",
        "outputId": "f9c0c5e6-a0ef-442b-fb89-59f2ac79a7bb"
      },
      "execution_count": 118,
      "outputs": [
        {
          "output_type": "execute_result",
          "data": {
            "text/plain": [
              "tensor([1, 2, 3])"
            ]
          },
          "metadata": {},
          "execution_count": 118
        }
      ]
    },
    {
      "cell_type": "code",
      "source": [
        "# Element-wise multiplication (each element multiplies its equivalent, index 0->0, 1->1, 2->2)\n",
        "print(tensor, \"*\", tensor)\n",
        "print(\"Equals:\", tensor * tensor)"
      ],
      "metadata": {
        "colab": {
          "base_uri": "https://localhost:8080/"
        },
        "id": "QR9w_ajFTYtU",
        "outputId": "e6673e34-aa72-4b1a-819a-2ff803aada56"
      },
      "execution_count": 120,
      "outputs": [
        {
          "output_type": "stream",
          "name": "stdout",
          "text": [
            "tensor([1, 2, 3]) * tensor([1, 2, 3])\n",
            "Equals: tensor([1, 4, 9])\n"
          ]
        }
      ]
    },
    {
      "cell_type": "code",
      "source": [
        "# Matrix multiplication (is all you need)"
      ],
      "metadata": {
        "id": "5HP7eSCqTY0Q"
      },
      "execution_count": 121,
      "outputs": []
    },
    {
      "cell_type": "code",
      "source": [
        "# The inner dimensions must match:\n",
        "# (3, 2) @ (3, 2) won't work\n",
        "# (2, 3) @ (3, 2) will work\n",
        "# (3, 2) @ (2, 3) will work\n",
        "# The resulting matrix has the shape of the outer dimensions:\n",
        "# (2, 3) @ (3, 2) -> (2, 2)\n",
        "# (3, 2) @ (2, 3) -> (3, 3)\n",
        "# Note: \"@\" in Python is the symbol for matrix multiplication."
      ],
      "metadata": {
        "id": "kCrMLLF4TY7M"
      },
      "execution_count": 123,
      "outputs": []
    },
    {
      "cell_type": "code",
      "source": [
        "# Element-wise matrix multiplication\n",
        "tensor * tensor # [1*1, 2*2, 3*3] = [1, 4, 9]"
      ],
      "metadata": {
        "colab": {
          "base_uri": "https://localhost:8080/"
        },
        "id": "NQDTJE7ajwsm",
        "outputId": "6fe3d137-e0bb-4c34-ee1e-924055999393"
      },
      "execution_count": 124,
      "outputs": [
        {
          "output_type": "execute_result",
          "data": {
            "text/plain": [
              "tensor([1, 4, 9])"
            ]
          },
          "metadata": {},
          "execution_count": 124
        }
      ]
    },
    {
      "cell_type": "code",
      "source": [
        "# Matrix multiplication\n",
        "torch.matmul(tensor, tensor) # [1*1 + 2*2 + 3*3] = [14]"
      ],
      "metadata": {
        "colab": {
          "base_uri": "https://localhost:8080/"
        },
        "id": "tnK0DVrSkOnE",
        "outputId": "2402285c-8326-4963-f065-edaedf79b6e7"
      },
      "execution_count": 126,
      "outputs": [
        {
          "output_type": "execute_result",
          "data": {
            "text/plain": [
              "tensor(14)"
            ]
          },
          "metadata": {},
          "execution_count": 126
        }
      ]
    },
    {
      "cell_type": "code",
      "source": [
        "# Can also use the \"@\" symbol for matrix multiplication, though not recommended\n",
        "tensor @ tensor"
      ],
      "metadata": {
        "colab": {
          "base_uri": "https://localhost:8080/"
        },
        "id": "ew57VLTEke5N",
        "outputId": "cc92e679-ffcb-4b44-d08a-287c3f59ed96"
      },
      "execution_count": 129,
      "outputs": [
        {
          "output_type": "execute_result",
          "data": {
            "text/plain": [
              "tensor(14)"
            ]
          },
          "metadata": {},
          "execution_count": 129
        }
      ]
    },
    {
      "cell_type": "code",
      "source": [
        "# You can do matrix multiplication by hand but it's not recommended.\n",
        "\n",
        "# The in-built torch.matmul() method is faster.\n",
        "\n",
        "%%time\n",
        "# Matrix multiplication by hand\n",
        "value = 0\n",
        "for i in range(len(tensor)):\n",
        "    value += tensor[i] * tensor[i]\n",
        "value"
      ],
      "metadata": {
        "colab": {
          "base_uri": "https://localhost:8080/"
        },
        "id": "amC_15uekwcy",
        "outputId": "ee82b314-6976-45bc-e9f8-3d619b8799eb"
      },
      "execution_count": 130,
      "outputs": [
        {
          "output_type": "stream",
          "name": "stdout",
          "text": [
            "CPU times: user 950 µs, sys: 994 µs, total: 1.94 ms\n",
            "Wall time: 11.2 ms\n"
          ]
        },
        {
          "output_type": "execute_result",
          "data": {
            "text/plain": [
              "tensor(14)"
            ]
          },
          "metadata": {},
          "execution_count": 130
        }
      ]
    },
    {
      "cell_type": "code",
      "source": [
        "%%time\n",
        "torch.matmul(tensor, tensor)"
      ],
      "metadata": {
        "colab": {
          "base_uri": "https://localhost:8080/"
        },
        "id": "kaj2OhwtlfPa",
        "outputId": "cc498a00-8623-4e05-f92e-17fc775f40c6"
      },
      "execution_count": 133,
      "outputs": [
        {
          "output_type": "stream",
          "name": "stdout",
          "text": [
            "CPU times: user 333 µs, sys: 0 ns, total: 333 µs\n",
            "Wall time: 273 µs\n"
          ]
        },
        {
          "output_type": "execute_result",
          "data": {
            "text/plain": [
              "tensor(14)"
            ]
          },
          "metadata": {},
          "execution_count": 133
        }
      ]
    },
    {
      "cell_type": "markdown",
      "source": [
        "One of the most common errors in deep learning (shape errors)\n"
      ],
      "metadata": {
        "id": "GGi9ALV9l37L"
      }
    },
    {
      "cell_type": "code",
      "source": [
        "# Shapes need to be in the right way\n",
        "tensor_A = torch.tensor([[1, 2],\n",
        "                         [3, 4],\n",
        "                         [5, 6]], dtype=torch.float32)\n",
        "\n",
        "tensor_B = torch.tensor([[7, 10],\n",
        "                         [8, 11],\n",
        "                         [9, 12]], dtype=torch.float32)\n",
        "\n",
        "torch.matmul(tensor_A, tensor_B) # this will error"
      ],
      "metadata": {
        "colab": {
          "base_uri": "https://localhost:8080/",
          "height": 176
        },
        "id": "zZQFbpvxl5W2",
        "outputId": "81f3bf83-bb84-4b26-a98c-179ff2bd578c"
      },
      "execution_count": 136,
      "outputs": [
        {
          "output_type": "error",
          "ename": "RuntimeError",
          "evalue": "mat1 and mat2 shapes cannot be multiplied (3x2 and 3x2)",
          "traceback": [
            "\u001b[0;31m---------------------------------------------------------------------------\u001b[0m",
            "\u001b[0;31mRuntimeError\u001b[0m                              Traceback (most recent call last)",
            "\u001b[0;32m<ipython-input-136-779e0c2a8221>\u001b[0m in \u001b[0;36m<cell line: 0>\u001b[0;34m()\u001b[0m\n\u001b[1;32m      8\u001b[0m                          [9, 12]], dtype=torch.float32)\n\u001b[1;32m      9\u001b[0m \u001b[0;34m\u001b[0m\u001b[0m\n\u001b[0;32m---> 10\u001b[0;31m \u001b[0mtorch\u001b[0m\u001b[0;34m.\u001b[0m\u001b[0mmatmul\u001b[0m\u001b[0;34m(\u001b[0m\u001b[0mtensor_A\u001b[0m\u001b[0;34m,\u001b[0m \u001b[0mtensor_B\u001b[0m\u001b[0;34m)\u001b[0m \u001b[0;31m# this will error\u001b[0m\u001b[0;34m\u001b[0m\u001b[0;34m\u001b[0m\u001b[0m\n\u001b[0m",
            "\u001b[0;31mRuntimeError\u001b[0m: mat1 and mat2 shapes cannot be multiplied (3x2 and 3x2)"
          ]
        }
      ]
    },
    {
      "cell_type": "code",
      "source": [
        "# View tensor_A and tensor_B\n",
        "print(tensor_A)\n",
        "print(tensor_B)"
      ],
      "metadata": {
        "colab": {
          "base_uri": "https://localhost:8080/"
        },
        "id": "jjeHZK49nQB6",
        "outputId": "c94c2576-eeb7-4ab1-d4ae-b5db049d4a73"
      },
      "execution_count": 137,
      "outputs": [
        {
          "output_type": "stream",
          "name": "stdout",
          "text": [
            "tensor([[1., 2.],\n",
            "        [3., 4.],\n",
            "        [5., 6.]])\n",
            "tensor([[ 7., 10.],\n",
            "        [ 8., 11.],\n",
            "        [ 9., 12.]])\n"
          ]
        }
      ]
    },
    {
      "cell_type": "code",
      "source": [
        "# View tensor_A and tensor_B.T\n",
        "print(tensor_A)\n",
        "print(tensor_B.T)"
      ],
      "metadata": {
        "colab": {
          "base_uri": "https://localhost:8080/"
        },
        "id": "qTY09XK7oCiF",
        "outputId": "8e56ea01-78f5-4f3b-c482-373ae25cd0dd"
      },
      "execution_count": 139,
      "outputs": [
        {
          "output_type": "stream",
          "name": "stdout",
          "text": [
            "tensor([[1., 2.],\n",
            "        [3., 4.],\n",
            "        [5., 6.]])\n",
            "tensor([[ 7.,  8.,  9.],\n",
            "        [10., 11., 12.]])\n"
          ]
        }
      ]
    },
    {
      "cell_type": "code",
      "source": [
        "# The operation works when tensor_B is transposed\n",
        "print(f\"Original shapes: tensor_A = {tensor_A.shape}, tensor_B = {tensor_B.shape}\\n\")\n",
        "print(f\"New shapes: tensor_A = {tensor_A.shape} (same as above), tensor_B.T = {tensor_B.T.shape}\\n\")\n",
        "print(f\"Multiplying: {tensor_A.shape} * {tensor_B.T.shape} <- inner dimensions match\\n\")\n",
        "print(\"Output:\\n\")\n",
        "output = torch.matmul(tensor_A, tensor_B.T)\n",
        "print(output)\n",
        "print(f\"\\nOutput shape: {output.shape}\")"
      ],
      "metadata": {
        "colab": {
          "base_uri": "https://localhost:8080/"
        },
        "id": "lO0hWRXJoSIt",
        "outputId": "57f4ce24-ae01-4d8f-e0d5-031ecbd9e006"
      },
      "execution_count": 140,
      "outputs": [
        {
          "output_type": "stream",
          "name": "stdout",
          "text": [
            "Original shapes: tensor_A = torch.Size([3, 2]), tensor_B = torch.Size([3, 2])\n",
            "\n",
            "New shapes: tensor_A = torch.Size([3, 2]) (same as above), tensor_B.T = torch.Size([2, 3])\n",
            "\n",
            "Multiplying: torch.Size([3, 2]) * torch.Size([2, 3]) <- inner dimensions match\n",
            "\n",
            "Output:\n",
            "\n",
            "tensor([[ 27.,  30.,  33.],\n",
            "        [ 61.,  68.,  75.],\n",
            "        [ 95., 106., 117.]])\n",
            "\n",
            "Output shape: torch.Size([3, 3])\n"
          ]
        }
      ]
    },
    {
      "cell_type": "code",
      "source": [
        "# You can also use 'torch.mm()' which is a short for 'torch.matmul()'\n",
        "torch.mm(tensor_A, tensor_B.T)"
      ],
      "metadata": {
        "colab": {
          "base_uri": "https://localhost:8080/"
        },
        "id": "UVGLW6HLoTmY",
        "outputId": "e75bd95a-0f65-4e4f-d0e6-e5f72a230ece"
      },
      "execution_count": 142,
      "outputs": [
        {
          "output_type": "execute_result",
          "data": {
            "text/plain": [
              "tensor([[ 27.,  30.,  33.],\n",
              "        [ 61.,  68.,  75.],\n",
              "        [ 95., 106., 117.]])"
            ]
          },
          "metadata": {},
          "execution_count": 142
        }
      ]
    },
    {
      "cell_type": "code",
      "source": [
        "torch.manual_seed(42)\n",
        "\n",
        "# This uses matrix multiplication\n",
        "linear = torch.nn.Linear(in_features=2,\n",
        "                         out_features=6)\n",
        "\n",
        "x = tensor_A\n",
        "output = linear(x)\n",
        "print(f\"Input shape: {x.shape}\\n\")\n",
        "print(f\"Output:\\n{output}\\n Output shape: {output.shape}\")"
      ],
      "metadata": {
        "colab": {
          "base_uri": "https://localhost:8080/"
        },
        "id": "ztRskTV3oTvZ",
        "outputId": "305c2147-e406-477d-acf9-6c5214b49dc2"
      },
      "execution_count": 143,
      "outputs": [
        {
          "output_type": "stream",
          "name": "stdout",
          "text": [
            "Input shape: torch.Size([3, 2])\n",
            "\n",
            "Output:\n",
            "tensor([[2.2368, 1.2292, 0.4714, 0.3864, 0.1309, 0.9838],\n",
            "        [4.4919, 2.1970, 0.4469, 0.5285, 0.3401, 2.4777],\n",
            "        [6.7469, 3.1648, 0.4224, 0.6705, 0.5493, 3.9716]],\n",
            "       grad_fn=<AddmmBackward0>)\n",
            " Output shape: torch.Size([3, 6])\n"
          ]
        }
      ]
    },
    {
      "cell_type": "code",
      "source": [
        "tensor_A"
      ],
      "metadata": {
        "colab": {
          "base_uri": "https://localhost:8080/"
        },
        "id": "ReB1O4qEoT2p",
        "outputId": "12f3977a-6f19-4364-9303-65cb89d79d31"
      },
      "execution_count": 147,
      "outputs": [
        {
          "output_type": "execute_result",
          "data": {
            "text/plain": [
              "2"
            ]
          },
          "metadata": {},
          "execution_count": 147
        }
      ]
    },
    {
      "cell_type": "code",
      "source": [
        "# torch.nn.Linear(in_features, out_features, bias=True) # Defalt bias=True"
      ],
      "metadata": {
        "id": "VtuavIznoT-F"
      },
      "execution_count": null,
      "outputs": []
    },
    {
      "cell_type": "markdown",
      "source": [
        "output = weight @ input + bias"
      ],
      "metadata": {
        "id": "-Ko6N5HJxL3Q"
      }
    },
    {
      "cell_type": "code",
      "source": [
        "import torch"
      ],
      "metadata": {
        "id": "iZ4LPuQuIV7y"
      },
      "execution_count": 3,
      "outputs": []
    },
    {
      "source": [
        "import torch.nn as nn\n",
        "\n",
        "# Create a linear layer with 3 input features and 5 output features\n",
        "linear_layer = nn.Linear(in_features=3, out_features=5)\n",
        "\n",
        "# Input data (shape: [batch_size, 3])\n",
        "input_data = torch.randn(10, 3)  # Batch size of 10\n",
        "\n",
        "# Pass the input data through the linear layer\n",
        "output_data = linear_layer(input_data)\n",
        "\n",
        "# Output data will have shape: [batch_size, 5]\n",
        "print(output_data.shape)  # Output: torch.Size([10, 5])"
      ],
      "cell_type": "code",
      "metadata": {
        "colab": {
          "base_uri": "https://localhost:8080/"
        },
        "id": "au9L_755xjSO",
        "outputId": "d08e0ad6-0ae7-485d-e5f2-a41b7511098c"
      },
      "execution_count": 4,
      "outputs": [
        {
          "output_type": "stream",
          "name": "stdout",
          "text": [
            "torch.Size([10, 5])\n"
          ]
        }
      ]
    },
    {
      "cell_type": "code",
      "source": [],
      "metadata": {
        "id": "7bsC58aZoUQL"
      },
      "execution_count": null,
      "outputs": []
    },
    {
      "cell_type": "code",
      "source": [],
      "metadata": {
        "id": "j-N3oWwBoUVW"
      },
      "execution_count": null,
      "outputs": []
    },
    {
      "cell_type": "code",
      "source": [],
      "metadata": {
        "id": "D0ny_sHXoUaZ"
      },
      "execution_count": null,
      "outputs": []
    },
    {
      "cell_type": "code",
      "source": [],
      "metadata": {
        "id": "2PuEJFBHoUfJ"
      },
      "execution_count": null,
      "outputs": []
    },
    {
      "cell_type": "code",
      "source": [],
      "metadata": {
        "id": "xLNBadlSoUpJ"
      },
      "execution_count": null,
      "outputs": []
    },
    {
      "cell_type": "code",
      "source": [],
      "metadata": {
        "id": "zdi5h4_RoUts"
      },
      "execution_count": null,
      "outputs": []
    },
    {
      "cell_type": "code",
      "source": [],
      "metadata": {
        "id": "KWTqgiLmoUzC"
      },
      "execution_count": null,
      "outputs": []
    },
    {
      "cell_type": "code",
      "source": [],
      "metadata": {
        "id": "te0vOfOuoU34"
      },
      "execution_count": null,
      "outputs": []
    },
    {
      "cell_type": "code",
      "source": [],
      "metadata": {
        "id": "N-4RCi10oU86"
      },
      "execution_count": null,
      "outputs": []
    },
    {
      "cell_type": "code",
      "source": [],
      "metadata": {
        "id": "rWQ5-FiloVBb"
      },
      "execution_count": null,
      "outputs": []
    },
    {
      "cell_type": "code",
      "source": [],
      "metadata": {
        "id": "yw_3Psz1oVGJ"
      },
      "execution_count": null,
      "outputs": []
    },
    {
      "cell_type": "code",
      "source": [],
      "metadata": {
        "id": "f-ZqIkxeoVKU"
      },
      "execution_count": null,
      "outputs": []
    },
    {
      "cell_type": "code",
      "source": [],
      "metadata": {
        "id": "Zw0dJUitoVPO"
      },
      "execution_count": null,
      "outputs": []
    },
    {
      "cell_type": "code",
      "source": [],
      "metadata": {
        "id": "yIxZSZrjoVT1"
      },
      "execution_count": null,
      "outputs": []
    }
  ]
}